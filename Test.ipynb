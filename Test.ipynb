{
 "cells": [
  {
   "cell_type": "code",
   "execution_count": 1,
   "id": "afea0fab-7f5d-4730-abd5-a211d3aaec29",
   "metadata": {},
   "outputs": [],
   "source": [
    "import infection"
   ]
  },
  {
   "cell_type": "code",
   "execution_count": 2,
   "id": "d67dfd1a-d5a8-4295-867e-29ff5ff5791e",
   "metadata": {},
   "outputs": [
    {
     "data": {
      "text/plain": [
       "'a'"
      ]
     },
     "execution_count": 2,
     "metadata": {},
     "output_type": "execute_result"
    }
   ],
   "source": [
    "infection.ccc"
   ]
  },
  {
   "cell_type": "code",
   "execution_count": null,
   "id": "eb6ca3e6-dfb6-4edf-9361-ac35a1d15bf3",
   "metadata": {},
   "outputs": [],
   "source": []
  }
 ],
 "metadata": {
  "kernelspec": {
   "display_name": "Python 3 (ipykernel)",
   "language": "python",
   "name": "python3"
  },
  "language_info": {
   "codemirror_mode": {
    "name": "ipython",
    "version": 3
   },
   "file_extension": ".py",
   "mimetype": "text/x-python",
   "name": "python",
   "nbconvert_exporter": "python",
   "pygments_lexer": "ipython3",
   "version": "3.12.9"
  }
 },
 "nbformat": 4,
 "nbformat_minor": 5
}
