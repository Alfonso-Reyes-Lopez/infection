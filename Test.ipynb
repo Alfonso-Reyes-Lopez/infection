{
  "cells": [
    {
      "cell_type": "code",
      "execution_count": 1,
      "id": "afea0fab-7f5d-4730-abd5-a211d3aaec29",
      "metadata": {
        "id": "afea0fab-7f5d-4730-abd5-a211d3aaec29",
        "outputId": "29d87eb1-98b2-4268-f00a-76e960c69b06",
        "colab": {
          "base_uri": "https://localhost:8080/",
          "height": 315
        }
      },
      "outputs": [
        {
          "output_type": "error",
          "ename": "ModuleNotFoundError",
          "evalue": "No module named 'infection'",
          "traceback": [
            "\u001b[0;31m---------------------------------------------------------------------------\u001b[0m",
            "\u001b[0;31mModuleNotFoundError\u001b[0m                       Traceback (most recent call last)",
            "\u001b[0;32m<ipython-input-1-e55a790b837d>\u001b[0m in \u001b[0;36m<cell line: 0>\u001b[0;34m()\u001b[0m\n\u001b[0;32m----> 1\u001b[0;31m \u001b[0;32mimport\u001b[0m \u001b[0minfection\u001b[0m\u001b[0;34m\u001b[0m\u001b[0;34m\u001b[0m\u001b[0m\n\u001b[0m",
            "\u001b[0;31mModuleNotFoundError\u001b[0m: No module named 'infection'",
            "",
            "\u001b[0;31m---------------------------------------------------------------------------\u001b[0;32m\nNOTE: If your import is failing due to a missing package, you can\nmanually install dependencies using either !pip or !apt.\n\nTo view examples of installing some common dependencies, click the\n\"Open Examples\" button below.\n\u001b[0;31m---------------------------------------------------------------------------\u001b[0m\n"
          ],
          "errorDetails": {
            "actions": [
              {
                "action": "open_url",
                "actionText": "Open Examples",
                "url": "/notebooks/snippets/importing_libraries.ipynb"
              }
            ]
          }
        }
      ],
      "source": [
        "import infection"
      ]
    },
    {
      "cell_type": "code",
      "execution_count": null,
      "id": "d67dfd1a-d5a8-4295-867e-29ff5ff5791e",
      "metadata": {
        "id": "d67dfd1a-d5a8-4295-867e-29ff5ff5791e",
        "outputId": "d918c9a8-72f5-49fb-f9f0-e8f2d6ab014f"
      },
      "outputs": [
        {
          "data": {
            "text/plain": [
              "'a'"
            ]
          },
          "execution_count": 2,
          "metadata": {},
          "output_type": "execute_result"
        }
      ],
      "source": [
        "infection.ccc"
      ]
    },
    {
      "cell_type": "code",
      "source": [
        "import infection as inf"
      ],
      "metadata": {
        "id": "El5md6qNiF5w",
        "outputId": "33ed83a3-bfa0-4ab3-9a26-cffdfada7d48",
        "colab": {
          "base_uri": "https://localhost:8080/",
          "height": 315
        }
      },
      "id": "El5md6qNiF5w",
      "execution_count": 8,
      "outputs": [
        {
          "output_type": "error",
          "ename": "ModuleNotFoundError",
          "evalue": "No module named 'infection'",
          "traceback": [
            "\u001b[0;31m---------------------------------------------------------------------------\u001b[0m",
            "\u001b[0;31mModuleNotFoundError\u001b[0m                       Traceback (most recent call last)",
            "\u001b[0;32m<ipython-input-8-932fdec9f0c9>\u001b[0m in \u001b[0;36m<cell line: 0>\u001b[0;34m()\u001b[0m\n\u001b[0;32m----> 1\u001b[0;31m \u001b[0;32mimport\u001b[0m \u001b[0minfection\u001b[0m \u001b[0;32mas\u001b[0m \u001b[0minf\u001b[0m\u001b[0;34m\u001b[0m\u001b[0;34m\u001b[0m\u001b[0m\n\u001b[0m",
            "\u001b[0;31mModuleNotFoundError\u001b[0m: No module named 'infection'",
            "",
            "\u001b[0;31m---------------------------------------------------------------------------\u001b[0;32m\nNOTE: If your import is failing due to a missing package, you can\nmanually install dependencies using either !pip or !apt.\n\nTo view examples of installing some common dependencies, click the\n\"Open Examples\" button below.\n\u001b[0;31m---------------------------------------------------------------------------\u001b[0m\n"
          ],
          "errorDetails": {
            "actions": [
              {
                "action": "open_url",
                "actionText": "Open Examples",
                "url": "/notebooks/snippets/importing_libraries.ipynb"
              }
            ]
          }
        }
      ]
    },
    {
      "cell_type": "code",
      "source": [
        "import numpy as np"
      ],
      "metadata": {
        "id": "uKh2OsQ1jGkx"
      },
      "id": "uKh2OsQ1jGkx",
      "execution_count": 13,
      "outputs": []
    },
    {
      "cell_type": "code",
      "source": [
        "np.zeros((3,4))"
      ],
      "metadata": {
        "id": "c-8kFM9ejpOv",
        "outputId": "66a8c3f4-1a56-4512-ac3a-a33f9d185b9c",
        "colab": {
          "base_uri": "https://localhost:8080/"
        }
      },
      "id": "c-8kFM9ejpOv",
      "execution_count": 14,
      "outputs": [
        {
          "output_type": "execute_result",
          "data": {
            "text/plain": [
              "array([[0., 0., 0., 0.],\n",
              "       [0., 0., 0., 0.],\n",
              "       [0., 0., 0., 0.]])"
            ]
          },
          "metadata": {},
          "execution_count": 14
        }
      ]
    },
    {
      "cell_type": "code",
      "execution_count": 34,
      "id": "eb6ca3e6-dfb6-4edf-9361-ac35a1d15bf3",
      "metadata": {
        "id": "eb6ca3e6-dfb6-4edf-9361-ac35a1d15bf3"
      },
      "outputs": [],
      "source": [
        "class Mundo:\n",
        "\n",
        "  def __init__(self, n_columnas, n_filas):\n",
        "    self.numero_columnas = n_columnas\n",
        "    self.numero_filas = n_filas\n",
        "    self.mapa = np.zeros((n_filas, n_columnas), dtype=int)\n",
        "\n",
        "  def ocupacion_inicial(self, ocupacion):\n",
        "    numero_celdas_ocupadas = int(self.numero_columnas * self.numero_filas * ocupacion)\n",
        "\n",
        "    contador = 0\n",
        "    while contador < numero_celdas_ocupadas:\n",
        "      ii = np.random.randint(0, self.numero_filas)\n",
        "      jj = np.random.randint(0, self.numero_columnas)\n",
        "      if (self.mapa[ii, jj] == 0):\n",
        "        self.mapa[ii, jj] = 1\n",
        "        contador = contador + 1"
      ]
    },
    {
      "cell_type": "code",
      "source": [
        "mundo_1 = Mundo(100, 200)"
      ],
      "metadata": {
        "id": "lD8lLkPDfoH3"
      },
      "id": "lD8lLkPDfoH3",
      "execution_count": 33,
      "outputs": []
    },
    {
      "cell_type": "code",
      "source": [
        "mundo_1.mapa"
      ],
      "metadata": {
        "id": "KmrLSWFYpifb",
        "outputId": "d31d2be1-ba20-494b-c788-42cf6d28fc32",
        "colab": {
          "base_uri": "https://localhost:8080/"
        }
      },
      "id": "KmrLSWFYpifb",
      "execution_count": 35,
      "outputs": [
        {
          "output_type": "execute_result",
          "data": {
            "text/plain": [
              "array([[0, 0, 0, ..., 0, 0, 0],\n",
              "       [0, 0, 0, ..., 0, 0, 0],\n",
              "       [0, 0, 0, ..., 0, 0, 0],\n",
              "       ...,\n",
              "       [0, 0, 0, ..., 0, 0, 0],\n",
              "       [0, 0, 0, ..., 0, 0, 0],\n",
              "       [0, 0, 0, ..., 0, 0, 0]])"
            ]
          },
          "metadata": {},
          "execution_count": 35
        }
      ]
    },
    {
      "cell_type": "code",
      "source": [
        "mundo_1.ocupacion_inicial(0.3328676)"
      ],
      "metadata": {
        "id": "UcwjzItqkkaf",
        "outputId": "ff47453d-2040-4d8e-a002-07f2405d626a",
        "colab": {
          "base_uri": "https://localhost:8080/"
        }
      },
      "id": "UcwjzItqkkaf",
      "execution_count": 23,
      "outputs": [
        {
          "output_type": "stream",
          "name": "stdout",
          "text": [
            "665\n"
          ]
        }
      ]
    },
    {
      "cell_type": "code",
      "source": [
        "np.random.randint(0,10,2)"
      ],
      "metadata": {
        "id": "Ya5OLOunnU4l",
        "outputId": "c22b0395-cb02-4a60-80d6-61653af25923",
        "colab": {
          "base_uri": "https://localhost:8080/"
        }
      },
      "id": "Ya5OLOunnU4l",
      "execution_count": 27,
      "outputs": [
        {
          "output_type": "execute_result",
          "data": {
            "text/plain": [
              "array([2, 5])"
            ]
          },
          "metadata": {},
          "execution_count": 27
        }
      ]
    },
    {
      "cell_type": "code",
      "source": [
        "np.round(0.4345)"
      ],
      "metadata": {
        "id": "hcgZziuUmzej",
        "outputId": "8944e4e6-34b9-499a-c956-529e6350aa00",
        "colab": {
          "base_uri": "https://localhost:8080/"
        }
      },
      "id": "hcgZziuUmzej",
      "execution_count": 22,
      "outputs": [
        {
          "output_type": "execute_result",
          "data": {
            "text/plain": [
              "np.float64(0.0)"
            ]
          },
          "metadata": {},
          "execution_count": 22
        }
      ]
    },
    {
      "cell_type": "code",
      "source": [
        "mundo_1.prueba(\"Hola mundo\")"
      ],
      "metadata": {
        "id": "ncIdrzHfivJt",
        "outputId": "930d68bc-7f6e-4de4-d28c-fffffa50bf4b",
        "colab": {
          "base_uri": "https://localhost:8080/",
          "height": 141
        }
      },
      "id": "ncIdrzHfivJt",
      "execution_count": 12,
      "outputs": [
        {
          "output_type": "error",
          "ename": "TypeError",
          "evalue": "Mundo.prueba() takes 1 positional argument but 2 were given",
          "traceback": [
            "\u001b[0;31m---------------------------------------------------------------------------\u001b[0m",
            "\u001b[0;31mTypeError\u001b[0m                                 Traceback (most recent call last)",
            "\u001b[0;32m<ipython-input-12-27bbcc469ca6>\u001b[0m in \u001b[0;36m<cell line: 0>\u001b[0;34m()\u001b[0m\n\u001b[0;32m----> 1\u001b[0;31m \u001b[0mmundo_1\u001b[0m\u001b[0;34m.\u001b[0m\u001b[0mprueba\u001b[0m\u001b[0;34m(\u001b[0m\u001b[0;34m\"Hola mundo\"\u001b[0m\u001b[0;34m)\u001b[0m\u001b[0;34m\u001b[0m\u001b[0;34m\u001b[0m\u001b[0m\n\u001b[0m",
            "\u001b[0;31mTypeError\u001b[0m: Mundo.prueba() takes 1 positional argument but 2 were given"
          ]
        }
      ]
    },
    {
      "cell_type": "code",
      "source": [
        "mundo_1.numero_columnas"
      ],
      "metadata": {
        "id": "G6pfwfdzfyvx",
        "outputId": "bd43c3de-687e-49ef-84e5-11c96854b356",
        "colab": {
          "base_uri": "https://localhost:8080/"
        }
      },
      "id": "G6pfwfdzfyvx",
      "execution_count": 4,
      "outputs": [
        {
          "output_type": "execute_result",
          "data": {
            "text/plain": [
              "100"
            ]
          },
          "metadata": {},
          "execution_count": 4
        }
      ]
    },
    {
      "cell_type": "code",
      "source": [
        "mundo_2 = Mundo(100, 60)"
      ],
      "metadata": {
        "id": "KD-L2ggmgEz1"
      },
      "id": "KD-L2ggmgEz1",
      "execution_count": 5,
      "outputs": []
    },
    {
      "cell_type": "code",
      "source": [
        "mundo_2.numero_filas"
      ],
      "metadata": {
        "id": "lUN_SMdagKs3",
        "outputId": "6874fb7e-1549-4d53-f748-05d965ba5cc7",
        "colab": {
          "base_uri": "https://localhost:8080/"
        }
      },
      "id": "lUN_SMdagKs3",
      "execution_count": 6,
      "outputs": [
        {
          "output_type": "execute_result",
          "data": {
            "text/plain": [
              "60"
            ]
          },
          "metadata": {},
          "execution_count": 6
        }
      ]
    }
  ],
  "metadata": {
    "kernelspec": {
      "display_name": "Python 3 (ipykernel)",
      "language": "python",
      "name": "python3"
    },
    "language_info": {
      "codemirror_mode": {
        "name": "ipython",
        "version": 3
      },
      "file_extension": ".py",
      "mimetype": "text/x-python",
      "name": "python",
      "nbconvert_exporter": "python",
      "pygments_lexer": "ipython3",
      "version": "3.12.9"
    },
    "colab": {
      "provenance": []
    }
  },
  "nbformat": 4,
  "nbformat_minor": 5
}